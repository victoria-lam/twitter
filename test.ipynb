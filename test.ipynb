{
 "cells": [
  {
   "cell_type": "code",
   "execution_count": 1,
   "metadata": {
    "collapsed": true
   },
   "outputs": [],
   "source": [
    "# Dependencies\n",
    "import tweepy\n",
    "import time\n",
    "import json\n",
    "import random\n",
    "import requests as req\n",
    "import datetime"
   ]
  },
  {
   "cell_type": "code",
   "execution_count": 2,
   "metadata": {
    "collapsed": true
   },
   "outputs": [],
   "source": [
    "# Twitter API Keys\n",
    "consumer_key = \"1hQy7DJNH57HcwzyQwN4QIb7g\"\n",
    "consumer_secret = \"Lwj0L5UrqL4RCj5wIaOP2aAGda1NLyAotWRQiVCanS64MTPX0Y\"\n",
    "access_token = \"1668216486-awjRspu2pN8Bhd4l5dbXtkr3K7g6ZVXUK1ygo6a\"\n",
    "access_token_secret = \"RGHGIaE3Y0WFHx2S9OcB9J7VFytIyhLZ8GzxNtaXmfvHy\"\n",
    "\n",
    "# Setup Tweepy API Authentication\n",
    "auth = tweepy.OAuthHandler(consumer_key, consumer_secret)\n",
    "auth.set_access_token(access_token, access_token_secret)\n",
    "api = tweepy.API(auth, parser=tweepy.parsers.JSONParser())"
   ]
  },
  {
   "cell_type": "code",
   "execution_count": null,
   "metadata": {},
   "outputs": [],
   "source": [
    "# Send tweets every 60 Seconds to your homepage\n",
    "tweet_num = 1\n",
    "while tweet_num < 6:\n",
    "    api.update_status(\"Tweet Number :\" + str(time.ctime()) + \"counter: \" + str(tweet_num))\n",
    "    tweet_num = tweet_num + 1\n",
    "    time.sleep(60)"
   ]
  },
  {
   "cell_type": "code",
   "execution_count": null,
   "metadata": {
    "collapsed": true
   },
   "outputs": [],
   "source": []
  }
 ],
 "metadata": {
  "kernelspec": {
   "display_name": "Python 3",
   "language": "python",
   "name": "python3"
  },
  "language_info": {
   "codemirror_mode": {
    "name": "ipython",
    "version": 3
   },
   "file_extension": ".py",
   "mimetype": "text/x-python",
   "name": "python",
   "nbconvert_exporter": "python",
   "pygments_lexer": "ipython3",
   "version": "3.6.3"
  }
 },
 "nbformat": 4,
 "nbformat_minor": 2
}
